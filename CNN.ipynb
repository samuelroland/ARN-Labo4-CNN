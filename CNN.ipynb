{
  "cells": [
    {
      "cell_type": "markdown",
      "metadata": {
        "id": "HkLUJVa1bfNW"
      },
      "source": [
        "# Convolutional Neural Networks\n",
        "This notebook will guide you through the use of the `keras` package to train convolutional neural networks for handwritten digits classification. You are going to use the `mnist` dataset from LeCun et al. 1998."
      ]
    },
    {
      "cell_type": "markdown",
      "metadata": {
        "id": "SjQUQygFbfNb"
      },
      "source": [
        "## Loading the packages"
      ]
    },
    {
      "cell_type": "code",
      "execution_count": null,
      "metadata": {
        "colab": {
          "base_uri": "https://localhost:8080/"
        },
        "id": "h7O8MewabfNj",
        "outputId": "a46781c8-1441-49c4-aca2-3402d4f1f0ac"
      },
      "outputs": [],
      "source": [
        "# %pip install tensorflow --upgrade\n",
        "# %pip install keras --upgrade\n",
        "\n",
        "import numpy as np\n",
        "from matplotlib import pyplot as pl\n",
        "\n",
        "from tensorflow.keras.datasets import mnist\n",
        "from tensorflow.keras.models import Model\n",
        "from tensorflow.keras.layers import Dense, Dropout, Flatten, Conv2D, MaxPooling2D\n",
        "from tensorflow.keras.optimizers import RMSprop\n",
        "from tensorflow.keras.utils import to_categorical\n",
        "from tensorflow.keras.layers import Input\n",
        "from scipy import stats\n",
        "\n",
        "%matplotlib inline"
      ]
    },
    {
      "cell_type": "markdown",
      "metadata": {
        "id": "vbttXt8SbfOH"
      },
      "source": [
        "First, create some useful functions"
      ]
    },
    {
      "cell_type": "code",
      "execution_count": null,
      "metadata": {
        "id": "jAR9jPgybfOO"
      },
      "outputs": [],
      "source": [
        "def build_grid_of_images(array):\n",
        "    assert len(array.shape) == 3\n",
        "    dim_0 = np.sqrt(array.shape[0])\n",
        "    assert dim_0.is_integer()\n",
        "\n",
        "    temp_out = np.reshape(array, (dim_0, dim_0, array.shape[1], array.shape[2]))\n",
        "    temp_out = np.rollaxis(temp_out, 1, 3)\n",
        "    return np.reshape(temp_out, (dim_0*array.shape[1], dim_0*array.shape[2]))\n",
        "\n",
        "def plot_conv_layer_output(temp_out, title):\n",
        "    temp_to_plot = build_grid_of_images(temp_out)\n",
        "    pl.imshow(temp_to_plot, interpolation='nearest', cmap=pl.get_cmap('Greys'))\n",
        "    ax = pl.gca()\n",
        "    ax.set_xticks(np.arange(-0.5, temp_to_plot.shape[0]+0.5, temp_out.shape[1]))\n",
        "    ax.set_yticks(np.arange(-0.5, temp_to_plot.shape[0]+0.5, temp_out.shape[2]))\n",
        "    pl.grid()\n",
        "    pl.tick_params(axis='both', which='both', bottom='off', top='off', left='off', right='off', labelbottom='off', labelleft='off')\n",
        "    pl.title(title)\n",
        "\n",
        "def plot_dense_layer_output(temp_out, title):\n",
        "    pl.bar(np.arange(temp_out.shape[1])-0.4, temp_out[0,:])\n",
        "    pl.xlim(-0.5, temp_out.shape[1])\n",
        "    pl.grid()\n",
        "    pl.title(title)"
      ]
    },
    {
      "cell_type": "markdown",
      "metadata": {
        "id": "3fVOW4jGbfOb"
      },
      "source": [
        "Load the `mnist` dataset and normalize in the range [0, 1]"
      ]
    },
    {
      "cell_type": "code",
      "execution_count": null,
      "metadata": {
        "colab": {
          "base_uri": "https://localhost:8080/"
        },
        "id": "2H2K3S4MbfOf",
        "outputId": "3ea455a5-0a9c-4437-f5d4-289dc382d8ba"
      },
      "outputs": [],
      "source": [
        "(X_train, y_train), (X_test, y_test) = mnist.load_data()\n",
        "\n",
        "n_train, height, width = X_train.shape\n",
        "n_test, _, _ = X_test.shape\n",
        "\n",
        "X_train = X_train.reshape(n_train, height, width, 1).astype('float32')\n",
        "X_test = X_test.reshape(n_test, height, width, 1).astype('float32')\n",
        "\n",
        "X_train /= 255.0\n",
        "X_test /= 255.0\n",
        "\n",
        "n_classes = 10\n",
        "\n",
        "print(n_train, 'train samples')\n",
        "print(n_test, 'test samples')\n",
        "\n",
        "# convert class vectors to binary class matrices\n",
        "Y_train = to_categorical(y_train, n_classes)\n",
        "Y_test = to_categorical(y_test, n_classes)"
      ]
    },
    {
      "cell_type": "code",
      "execution_count": null,
      "metadata": {
        "colab": {
          "base_uri": "https://localhost:8080/"
        },
        "id": "4xhDKC7zWFgw",
        "outputId": "3644eb9c-adf2-4582-87bb-cea9f69a5526"
      },
      "outputs": [],
      "source": [
        "print('X_train.shape = ', X_train.shape)\n",
        "print('Y_train.shape = ', Y_train.shape)\n",
        "print('X_test.shape = ', X_test.shape)\n",
        "print('Y_test.shape = ', Y_test.shape)"
      ]
    },
    {
      "cell_type": "markdown",
      "metadata": {
        "id": "2B-WNiQUbfOq"
      },
      "source": [
        "Create the CNN and show its architecture"
      ]
    },
    {
      "cell_type": "code",
      "execution_count": null,
      "metadata": {
        "colab": {
          "base_uri": "https://localhost:8080/",
          "height": 476
        },
        "id": "yhOscSNPbfOt",
        "outputId": "3249aae6-796a-400d-da1a-088f3eee7869"
      },
      "outputs": [],
      "source": [
        "l0 = Input(shape=(height, width, 1), name='l0')\n",
        "\n",
        "l1 = Conv2D(2, (2, 2), padding='same', activation='relu', name='l1')(l0)\n",
        "l1_mp = MaxPooling2D(pool_size=(2, 2), name='l1_mp')(l1)\n",
        "\n",
        "l2 = Conv2D(2, (2, 2), padding='same', activation='relu', name='l2')(l1_mp)\n",
        "l2_mp = MaxPooling2D(pool_size=(2, 2), name='l2_mp')(l2)\n",
        "\n",
        "l3 = Conv2D(2, (2, 2), padding='same', activation='relu', name='l3')(l2_mp)\n",
        "l3_mp = MaxPooling2D(pool_size=(2, 2), name='l3_mp')(l3)\n",
        "\n",
        "flat = Flatten(name='flat')(l3_mp)\n",
        "\n",
        "l4 = Dense(2, activation='relu', name='l4')(flat)\n",
        "l5 = Dense(n_classes, activation='softmax', name='l5')(l4)\n",
        "\n",
        "model = Model(inputs=l0, outputs=l5)\n",
        "model.summary()"
      ]
    },
    {
      "cell_type": "markdown",
      "metadata": {
        "id": "sP_cugPCbfO6"
      },
      "source": [
        "Define some constants and train de CNN"
      ]
    },
    {
      "cell_type": "code",
      "execution_count": null,
      "metadata": {
        "colab": {
          "base_uri": "https://localhost:8080/"
        },
        "id": "l8eKqD80bfPB",
        "outputId": "2f4a1a3c-194b-4e89-beed-8f365be8c6ee"
      },
      "outputs": [],
      "source": [
        "batch_size = 128\n",
        "n_epoch = 15\n",
        "\n",
        "model.compile(loss='categorical_crossentropy', optimizer=RMSprop(), metrics=['accuracy'])\n",
        "\n",
        "history = model.fit(X_train, Y_train, batch_size=batch_size, epochs=n_epoch, verbose=1, validation_split=0.1)"
      ]
    },
    {
      "cell_type": "markdown",
      "metadata": {
        "id": "IBX2Tc_0bfPK"
      },
      "source": [
        "Show the performance of the model"
      ]
    },
    {
      "cell_type": "code",
      "execution_count": null,
      "metadata": {
        "colab": {
          "base_uri": "https://localhost:8080/",
          "height": 467
        },
        "id": "WeaMjl-EbfPS",
        "outputId": "621f5dd2-6207-448d-e123-074551d2c064"
      },
      "outputs": [],
      "source": [
        "pl.plot(history.history['loss'], label='Training')\n",
        "pl.plot(history.history['val_loss'], label='Testing')\n",
        "pl.legend()\n",
        "pl.grid()\n",
        "\n",
        "score = model.evaluate(X_test, Y_test, verbose=0)\n",
        "print('Test score:', score[0])\n",
        "print('Test accuracy:', score[1])"
      ]
    },
    {
      "cell_type": "markdown",
      "metadata": {
        "id": "rXNZ2ZHSbfPm"
      },
      "source": [
        "Confusion matrix"
      ]
    },
    {
      "cell_type": "code",
      "execution_count": null,
      "metadata": {
        "colab": {
          "base_uri": "https://localhost:8080/"
        },
        "id": "XfgRipFebfPm",
        "outputId": "48337b04-7049-45a3-c832-09aa3a77bd8c"
      },
      "outputs": [],
      "source": [
        "from sklearn.metrics import confusion_matrix\n",
        "\n",
        "pred = model.predict(X_test)\n",
        "print('pred.shape = ', pred.shape)\n",
        "pred = np.argmax(pred, axis=-1)\n",
        "confusion_matrix(y_test, pred)"
      ]
    },
    {
      "cell_type": "code",
      "execution_count": null,
      "metadata": {
        "id": "1WNDeJBZXR-O"
      },
      "outputs": [],
      "source": []
    }
  ],
  "metadata": {
    "accelerator": "GPU",
    "colab": {
      "provenance": []
    },
    "kernelspec": {
      "display_name": "Python 3 (ipykernel)",
      "language": "python",
      "name": "python3"
    },
    "language_info": {
      "codemirror_mode": {
        "name": "ipython",
        "version": 3
      },
      "file_extension": ".py",
      "mimetype": "text/x-python",
      "name": "python",
      "nbconvert_exporter": "python",
      "pygments_lexer": "ipython3",
      "version": "3.12.3"
    }
  },
  "nbformat": 4,
  "nbformat_minor": 0
}
