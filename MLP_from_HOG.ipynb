{
 "cells": [
  {
   "cell_type": "markdown",
   "metadata": {
    "id": "X_wPegydbafH"
   },
   "source": [
    "# Computing features to train a MLP\n",
    "This notebook will guide you through the use of the `keras` package to train a multilayer perceptron for handwritten digits classification. You are going to computing the histogram of gradients from the images in the `mnist` dataset (LeCun et al. 1998)"
   ]
  },
  {
   "cell_type": "markdown",
   "metadata": {
    "id": "61oGWRyMbafJ"
   },
   "source": [
    "## Loading the packages"
   ]
  },
  {
   "cell_type": "code",
   "execution_count": 1,
   "metadata": {
    "id": "duI9Ar-8bafS",
    "colab": {
     "base_uri": "https://localhost:8080/"
    },
    "outputId": "cb44789a-d59e-4fbb-aef0-52c174cc8f05",
    "ExecuteTime": {
     "end_time": "2024-05-12T16:20:56.002728Z",
     "start_time": "2024-05-12T16:20:34.117829Z"
    }
   },
   "outputs": [
    {
     "name": "stdout",
     "output_type": "stream",
     "text": [
      "Requirement already satisfied: tensorflow in /home/bolux/Documents/HEIG/ARN/labo3/vemv/lib/python3.11/site-packages (2.16.1)\r\n",
      "Requirement already satisfied: absl-py>=1.0.0 in /home/bolux/Documents/HEIG/ARN/labo3/vemv/lib/python3.11/site-packages (from tensorflow) (2.1.0)\r\n",
      "Requirement already satisfied: astunparse>=1.6.0 in /home/bolux/Documents/HEIG/ARN/labo3/vemv/lib/python3.11/site-packages (from tensorflow) (1.6.3)\r\n",
      "Requirement already satisfied: flatbuffers>=23.5.26 in /home/bolux/Documents/HEIG/ARN/labo3/vemv/lib/python3.11/site-packages (from tensorflow) (24.3.7)\r\n",
      "Requirement already satisfied: gast!=0.5.0,!=0.5.1,!=0.5.2,>=0.2.1 in /home/bolux/Documents/HEIG/ARN/labo3/vemv/lib/python3.11/site-packages (from tensorflow) (0.5.4)\r\n",
      "Requirement already satisfied: google-pasta>=0.1.1 in /home/bolux/Documents/HEIG/ARN/labo3/vemv/lib/python3.11/site-packages (from tensorflow) (0.2.0)\r\n",
      "Requirement already satisfied: h5py>=3.10.0 in /home/bolux/Documents/HEIG/ARN/labo3/vemv/lib/python3.11/site-packages (from tensorflow) (3.10.0)\r\n",
      "Requirement already satisfied: libclang>=13.0.0 in /home/bolux/Documents/HEIG/ARN/labo3/vemv/lib/python3.11/site-packages (from tensorflow) (18.1.1)\r\n",
      "Requirement already satisfied: ml-dtypes~=0.3.1 in /home/bolux/Documents/HEIG/ARN/labo3/vemv/lib/python3.11/site-packages (from tensorflow) (0.3.2)\r\n",
      "Requirement already satisfied: opt-einsum>=2.3.2 in /home/bolux/Documents/HEIG/ARN/labo3/vemv/lib/python3.11/site-packages (from tensorflow) (3.3.0)\r\n",
      "Requirement already satisfied: packaging in /home/bolux/Documents/HEIG/ARN/labo3/vemv/lib/python3.11/site-packages (from tensorflow) (24.0)\r\n",
      "Requirement already satisfied: protobuf!=4.21.0,!=4.21.1,!=4.21.2,!=4.21.3,!=4.21.4,!=4.21.5,<5.0.0dev,>=3.20.3 in /home/bolux/Documents/HEIG/ARN/labo3/vemv/lib/python3.11/site-packages (from tensorflow) (4.25.3)\r\n",
      "Requirement already satisfied: requests<3,>=2.21.0 in /home/bolux/Documents/HEIG/ARN/labo3/vemv/lib/python3.11/site-packages (from tensorflow) (2.31.0)\r\n",
      "Requirement already satisfied: setuptools in /home/bolux/Documents/HEIG/ARN/labo3/vemv/lib/python3.11/site-packages (from tensorflow) (68.2.0)\r\n",
      "Requirement already satisfied: six>=1.12.0 in /home/bolux/Documents/HEIG/ARN/labo3/vemv/lib/python3.11/site-packages (from tensorflow) (1.16.0)\r\n",
      "Requirement already satisfied: termcolor>=1.1.0 in /home/bolux/Documents/HEIG/ARN/labo3/vemv/lib/python3.11/site-packages (from tensorflow) (2.4.0)\r\n",
      "Requirement already satisfied: typing-extensions>=3.6.6 in /home/bolux/Documents/HEIG/ARN/labo3/vemv/lib/python3.11/site-packages (from tensorflow) (4.10.0)\r\n",
      "Requirement already satisfied: wrapt>=1.11.0 in /home/bolux/Documents/HEIG/ARN/labo3/vemv/lib/python3.11/site-packages (from tensorflow) (1.16.0)\r\n",
      "Requirement already satisfied: grpcio<2.0,>=1.24.3 in /home/bolux/Documents/HEIG/ARN/labo3/vemv/lib/python3.11/site-packages (from tensorflow) (1.62.1)\r\n",
      "Requirement already satisfied: tensorboard<2.17,>=2.16 in /home/bolux/Documents/HEIG/ARN/labo3/vemv/lib/python3.11/site-packages (from tensorflow) (2.16.2)\r\n",
      "Requirement already satisfied: keras>=3.0.0 in /home/bolux/Documents/HEIG/ARN/labo3/vemv/lib/python3.11/site-packages (from tensorflow) (3.3.3)\r\n",
      "Requirement already satisfied: tensorflow-io-gcs-filesystem>=0.23.1 in /home/bolux/Documents/HEIG/ARN/labo3/vemv/lib/python3.11/site-packages (from tensorflow) (0.36.0)\r\n",
      "Requirement already satisfied: numpy<2.0.0,>=1.23.5 in /home/bolux/Documents/HEIG/ARN/labo3/vemv/lib/python3.11/site-packages (from tensorflow) (1.26.4)\r\n",
      "Requirement already satisfied: wheel<1.0,>=0.23.0 in /home/bolux/Documents/HEIG/ARN/labo3/vemv/lib/python3.11/site-packages (from astunparse>=1.6.0->tensorflow) (0.41.2)\r\n",
      "Requirement already satisfied: rich in /home/bolux/Documents/HEIG/ARN/labo3/vemv/lib/python3.11/site-packages (from keras>=3.0.0->tensorflow) (13.7.1)\r\n",
      "Requirement already satisfied: namex in /home/bolux/Documents/HEIG/ARN/labo3/vemv/lib/python3.11/site-packages (from keras>=3.0.0->tensorflow) (0.0.7)\r\n",
      "Requirement already satisfied: optree in /home/bolux/Documents/HEIG/ARN/labo3/vemv/lib/python3.11/site-packages (from keras>=3.0.0->tensorflow) (0.10.0)\r\n",
      "Requirement already satisfied: charset-normalizer<4,>=2 in /home/bolux/Documents/HEIG/ARN/labo3/vemv/lib/python3.11/site-packages (from requests<3,>=2.21.0->tensorflow) (3.3.2)\r\n",
      "Requirement already satisfied: idna<4,>=2.5 in /home/bolux/Documents/HEIG/ARN/labo3/vemv/lib/python3.11/site-packages (from requests<3,>=2.21.0->tensorflow) (3.6)\r\n",
      "Requirement already satisfied: urllib3<3,>=1.21.1 in /home/bolux/Documents/HEIG/ARN/labo3/vemv/lib/python3.11/site-packages (from requests<3,>=2.21.0->tensorflow) (2.2.1)\r\n",
      "Requirement already satisfied: certifi>=2017.4.17 in /home/bolux/Documents/HEIG/ARN/labo3/vemv/lib/python3.11/site-packages (from requests<3,>=2.21.0->tensorflow) (2024.2.2)\r\n",
      "Requirement already satisfied: markdown>=2.6.8 in /home/bolux/Documents/HEIG/ARN/labo3/vemv/lib/python3.11/site-packages (from tensorboard<2.17,>=2.16->tensorflow) (3.6)\r\n",
      "Requirement already satisfied: tensorboard-data-server<0.8.0,>=0.7.0 in /home/bolux/Documents/HEIG/ARN/labo3/vemv/lib/python3.11/site-packages (from tensorboard<2.17,>=2.16->tensorflow) (0.7.2)\r\n",
      "Requirement already satisfied: werkzeug>=1.0.1 in /home/bolux/Documents/HEIG/ARN/labo3/vemv/lib/python3.11/site-packages (from tensorboard<2.17,>=2.16->tensorflow) (3.0.1)\r\n",
      "Requirement already satisfied: MarkupSafe>=2.1.1 in /home/bolux/Documents/HEIG/ARN/labo3/vemv/lib/python3.11/site-packages (from werkzeug>=1.0.1->tensorboard<2.17,>=2.16->tensorflow) (2.1.5)\r\n",
      "Requirement already satisfied: markdown-it-py>=2.2.0 in /home/bolux/Documents/HEIG/ARN/labo3/vemv/lib/python3.11/site-packages (from rich->keras>=3.0.0->tensorflow) (3.0.0)\r\n",
      "Requirement already satisfied: pygments<3.0.0,>=2.13.0 in /home/bolux/Documents/HEIG/ARN/labo3/vemv/lib/python3.11/site-packages (from rich->keras>=3.0.0->tensorflow) (2.17.2)\r\n",
      "Requirement already satisfied: mdurl~=0.1 in /home/bolux/Documents/HEIG/ARN/labo3/vemv/lib/python3.11/site-packages (from markdown-it-py>=2.2.0->rich->keras>=3.0.0->tensorflow) (0.1.2)\r\n",
      "Note: you may need to restart the kernel to use updated packages.\n",
      "Requirement already satisfied: keras in /home/bolux/Documents/HEIG/ARN/labo3/vemv/lib/python3.11/site-packages (3.3.3)\r\n",
      "Requirement already satisfied: absl-py in /home/bolux/Documents/HEIG/ARN/labo3/vemv/lib/python3.11/site-packages (from keras) (2.1.0)\r\n",
      "Requirement already satisfied: numpy in /home/bolux/Documents/HEIG/ARN/labo3/vemv/lib/python3.11/site-packages (from keras) (1.26.4)\r\n",
      "Requirement already satisfied: rich in /home/bolux/Documents/HEIG/ARN/labo3/vemv/lib/python3.11/site-packages (from keras) (13.7.1)\r\n",
      "Requirement already satisfied: namex in /home/bolux/Documents/HEIG/ARN/labo3/vemv/lib/python3.11/site-packages (from keras) (0.0.7)\r\n",
      "Requirement already satisfied: h5py in /home/bolux/Documents/HEIG/ARN/labo3/vemv/lib/python3.11/site-packages (from keras) (3.10.0)\r\n",
      "Requirement already satisfied: optree in /home/bolux/Documents/HEIG/ARN/labo3/vemv/lib/python3.11/site-packages (from keras) (0.10.0)\r\n",
      "Requirement already satisfied: ml-dtypes in /home/bolux/Documents/HEIG/ARN/labo3/vemv/lib/python3.11/site-packages (from keras) (0.3.2)\r\n",
      "Requirement already satisfied: typing-extensions>=4.0.0 in /home/bolux/Documents/HEIG/ARN/labo3/vemv/lib/python3.11/site-packages (from optree->keras) (4.10.0)\r\n",
      "Requirement already satisfied: markdown-it-py>=2.2.0 in /home/bolux/Documents/HEIG/ARN/labo3/vemv/lib/python3.11/site-packages (from rich->keras) (3.0.0)\r\n",
      "Requirement already satisfied: pygments<3.0.0,>=2.13.0 in /home/bolux/Documents/HEIG/ARN/labo3/vemv/lib/python3.11/site-packages (from rich->keras) (2.17.2)\r\n",
      "Requirement already satisfied: mdurl~=0.1 in /home/bolux/Documents/HEIG/ARN/labo3/vemv/lib/python3.11/site-packages (from markdown-it-py>=2.2.0->rich->keras) (0.1.2)\r\n",
      "Note: you may need to restart the kernel to use updated packages.\n",
      "Requirement already satisfied: pip in /home/bolux/Documents/HEIG/ARN/labo3/vemv/lib/python3.11/site-packages (24.0)\r\n",
      "Requirement already satisfied: install in /home/bolux/Documents/HEIG/ARN/labo3/vemv/lib/python3.11/site-packages (1.3.5)\r\n",
      "Requirement already satisfied: scikit-image in /home/bolux/Documents/HEIG/ARN/labo3/vemv/lib/python3.11/site-packages (0.23.2)\r\n",
      "Requirement already satisfied: numpy>=1.23 in /home/bolux/Documents/HEIG/ARN/labo3/vemv/lib/python3.11/site-packages (from scikit-image) (1.26.4)\r\n",
      "Requirement already satisfied: scipy>=1.9 in /home/bolux/Documents/HEIG/ARN/labo3/vemv/lib/python3.11/site-packages (from scikit-image) (1.12.0)\r\n",
      "Requirement already satisfied: networkx>=2.8 in /home/bolux/Documents/HEIG/ARN/labo3/vemv/lib/python3.11/site-packages (from scikit-image) (3.3)\r\n",
      "Requirement already satisfied: pillow>=9.1 in /home/bolux/Documents/HEIG/ARN/labo3/vemv/lib/python3.11/site-packages (from scikit-image) (10.2.0)\r\n",
      "Requirement already satisfied: imageio>=2.33 in /home/bolux/Documents/HEIG/ARN/labo3/vemv/lib/python3.11/site-packages (from scikit-image) (2.34.1)\r\n",
      "Requirement already satisfied: tifffile>=2022.8.12 in /home/bolux/Documents/HEIG/ARN/labo3/vemv/lib/python3.11/site-packages (from scikit-image) (2024.4.24)\r\n",
      "Requirement already satisfied: packaging>=21 in /home/bolux/Documents/HEIG/ARN/labo3/vemv/lib/python3.11/site-packages (from scikit-image) (24.0)\r\n",
      "Requirement already satisfied: lazy-loader>=0.4 in /home/bolux/Documents/HEIG/ARN/labo3/vemv/lib/python3.11/site-packages (from scikit-image) (0.4)\r\n",
      "Note: you may need to restart the kernel to use updated packages.\n"
     ]
    },
    {
     "name": "stderr",
     "output_type": "stream",
     "text": [
      "2024-05-12 18:20:51.804213: I external/local_tsl/tsl/cuda/cudart_stub.cc:32] Could not find cuda drivers on your machine, GPU will not be used.\n",
      "2024-05-12 18:20:51.811940: I external/local_tsl/tsl/cuda/cudart_stub.cc:32] Could not find cuda drivers on your machine, GPU will not be used.\n",
      "2024-05-12 18:20:51.928970: I tensorflow/core/platform/cpu_feature_guard.cc:210] This TensorFlow binary is optimized to use available CPU instructions in performance-critical operations.\n",
      "To enable the following instructions: AVX2 FMA, in other operations, rebuild TensorFlow with the appropriate compiler flags.\n",
      "2024-05-12 18:20:54.421873: W tensorflow/compiler/tf2tensorrt/utils/py_utils.cc:38] TF-TRT Warning: Could not find TensorRT\n"
     ]
    }
   ],
   "source": [
    "%pip install tensorflow --upgrade\n",
    "%pip install keras --upgrade\n",
    "%pip install pip install scikit-image --upgrade\n",
    "\n",
    "import numpy as np\n",
    "from matplotlib import pyplot as pl\n",
    "\n",
    "from skimage.feature import hog\n",
    "from skimage import data, color, exposure\n",
    "\n",
    "from tensorflow.keras.datasets import mnist\n",
    "from tensorflow.keras.models import Sequential\n",
    "from tensorflow.keras.layers import Dense, Dropout\n",
    "from tensorflow.keras.optimizers import RMSprop\n",
    "from tensorflow.keras.utils import to_categorical\n",
    "\n",
    "%matplotlib inline"
   ]
  },
  {
   "cell_type": "markdown",
   "metadata": {
    "id": "KpPmUqiRbafz"
   },
   "source": [
    "Load the `mnist` dataset and normalize in the range [0, 1]"
   ]
  },
  {
   "cell_type": "code",
   "execution_count": 2,
   "metadata": {
    "colab": {
     "base_uri": "https://localhost:8080/"
    },
    "id": "verKKFaFbaf6",
    "outputId": "14ba04ef-cfed-42f2-890f-31121f29f19b",
    "ExecuteTime": {
     "end_time": "2024-05-12T16:20:56.603785Z",
     "start_time": "2024-05-12T16:20:56.007620Z"
    }
   },
   "outputs": [
    {
     "name": "stdout",
     "output_type": "stream",
     "text": [
      "60000 train samples\n",
      "10000 test samples\n"
     ]
    }
   ],
   "source": [
    "(X_train, y_train), (X_test, y_test) = mnist.load_data()\n",
    "\n",
    "n_train, height, width = X_train.shape\n",
    "n_test, _, _ = X_test.shape\n",
    "\n",
    "X_train = X_train.reshape(n_train, height, width, 1).astype('float32')\n",
    "X_test = X_test.reshape(n_test, height, width, 1).astype('float32')\n",
    "\n",
    "X_train /= 255.0\n",
    "X_test /= 255.0\n",
    "\n",
    "n_classes = 10\n",
    "\n",
    "print(n_train, 'train samples')\n",
    "print(n_test, 'test samples')\n",
    "\n",
    "# convert class vectors to binary class matrices\n",
    "Y_train = to_categorical(y_train, n_classes)\n",
    "Y_test = to_categorical(y_test, n_classes)"
   ]
  },
  {
   "cell_type": "markdown",
   "metadata": {
    "id": "TazeB7LLbagE"
   },
   "source": [
    "### An example of how to compute the histogram of gradients\n",
    "Let's compute the HOG for one image in the test dataset"
   ]
  },
  {
   "cell_type": "code",
   "execution_count": 3,
   "metadata": {
    "id": "cL-609oKbagI",
    "ExecuteTime": {
     "end_time": "2024-05-12T16:20:56.613943Z",
     "start_time": "2024-05-12T16:20:56.606175Z"
    }
   },
   "outputs": [
    {
     "data": {
      "text/plain": "128"
     },
     "execution_count": 3,
     "metadata": {},
     "output_type": "execute_result"
    }
   ],
   "source": [
    "n_orientations = 8\n",
    "pix_p_cell = 7\n",
    "hog_size = int(height * width * n_orientations / (pix_p_cell * pix_p_cell))\n",
    "hog_size"
   ]
  },
  {
   "cell_type": "code",
   "execution_count": 4,
   "metadata": {
    "id": "r2DA2Da_bage",
    "ExecuteTime": {
     "end_time": "2024-05-12T16:20:56.635743Z",
     "start_time": "2024-05-12T16:20:56.616216Z"
    }
   },
   "outputs": [],
   "source": [
    "fd, hog_image = hog(X_test[0,:,:,0], orientations=n_orientations, pixels_per_cell=(pix_p_cell, pix_p_cell), cells_per_block=(1, 1), visualize=True)\n",
    "hog_image_rescaled = exposure.rescale_intensity(hog_image, in_range=(0, 0.02))"
   ]
  },
  {
   "cell_type": "markdown",
   "metadata": {
    "id": "s2Ow4uJtbago"
   },
   "source": [
    "Show the image and the corresponding gradients"
   ]
  },
  {
   "cell_type": "code",
   "execution_count": 5,
   "metadata": {
    "colab": {
     "base_uri": "https://localhost:8080/",
     "height": 482
    },
    "id": "83RZeljKbagu",
    "outputId": "2bc0a642-793b-4f71-e447-805c85b15f7b",
    "ExecuteTime": {
     "end_time": "2024-05-12T16:20:57.486503Z",
     "start_time": "2024-05-12T16:20:56.637874Z"
    }
   },
   "outputs": [
    {
     "data": {
      "text/plain": "<Figure size 1200x600 with 2 Axes>",
      "image/png": "[encoded data removed]"
     },
     "metadata": {},
     "output_type": "display_data"
    }
   ],
   "source": [
    "fig, (ax1, ax2) = pl.subplots(1, 2, figsize=(12, 6), sharex=True, sharey=True)\n",
    "ax1.axis('off')\n",
    "ax1.imshow(X_test[0,:,:,0], cmap=pl.get_cmap('Greys'), interpolation='nearest')\n",
    "ax1.set_title('Input image')\n",
    "ax1.set_adjustable('box')\n",
    "\n",
    "ax2.axis('off')\n",
    "ax2.imshow(hog_image_rescaled, cmap=pl.get_cmap('Greys'), interpolation='nearest')\n",
    "ax2.set_title('Histogram of Oriented Gradients')\n",
    "ax1.set_adjustable('box')"
   ]
  },
  {
   "cell_type": "markdown",
   "metadata": {
    "id": "3Yv-ep9ybag4"
   },
   "source": [
    "Compute the HOGs for the train and test datasets\n"
   ]
  },
  {
   "cell_type": "code",
   "execution_count": 6,
   "metadata": {
    "colab": {
     "base_uri": "https://localhost:8080/"
    },
    "id": "y8Q3cdrebag6",
    "outputId": "b217e8d7-c330-4a38-ad81-1a26679dce36",
    "ExecuteTime": {
     "end_time": "2024-05-12T16:21:41.617915Z",
     "start_time": "2024-05-12T16:20:57.491384Z"
    }
   },
   "outputs": [
    {
     "name": "stdout",
     "output_type": "stream",
     "text": [
      "X_train done\n",
      "X_test done\n"
     ]
    }
   ],
   "source": [
    "X_train_hog = np.zeros((X_train.shape[0], hog_size))\n",
    "X_test_hog = np.zeros((X_test.shape[0], hog_size))\n",
    "\n",
    "for i in np.arange(X_train_hog.shape[0]):\n",
    "    X_train_hog[i,:] = hog(X_train[i,:,:,0], orientations=n_orientations, pixels_per_cell=(pix_p_cell, pix_p_cell), cells_per_block=(1, 1), visualize=False)\n",
    "print('X_train done')\n",
    "\n",
    "for i in np.arange(X_test_hog.shape[0]):\n",
    "    X_test_hog[i,:] = hog(X_test[i,:,:,0], orientations=n_orientations, pixels_per_cell=(pix_p_cell, pix_p_cell), cells_per_block=(1, 1), visualize=False)\n",
    "print('X_test done')"
   ]
  },
  {
   "cell_type": "markdown",
   "metadata": {
    "id": "kos0aTYmbahU"
   },
   "source": [
    "Create the MLP"
   ]
  },
  {
   "cell_type": "code",
   "execution_count": 7,
   "metadata": {
    "colab": {
     "base_uri": "https://localhost:8080/",
     "height": 204
    },
    "id": "NnawtqztbahV",
    "outputId": "90dacea3-57e5-40f3-b122-8663c197930a",
    "ExecuteTime": {
     "end_time": "2024-05-12T16:21:41.686840Z",
     "start_time": "2024-05-12T16:21:41.619473Z"
    }
   },
   "outputs": [
    {
     "name": "stderr",
     "output_type": "stream",
     "text": [
      "/home/bolux/Documents/HEIG/ARN/labo3/vemv/lib/python3.11/site-packages/keras/src/layers/core/dense.py:87: UserWarning: Do not pass an `input_shape`/`input_dim` argument to a layer. When using Sequential models, prefer using an `Input(shape)` object as the first layer in the model instead.\n",
      "  super().__init__(activity_regularizer=activity_regularizer, **kwargs)\n"
     ]
    },
    {
     "data": {
      "text/plain": "\u001B[1mModel: \"sequential\"\u001B[0m\n",
      "text/html": "<pre style=\"white-space:pre;overflow-x:auto;line-height:normal;font-family:Menlo,'DejaVu Sans Mono',consolas,'Courier New',monospace\"><span style=\"font-weight: bold\">Model: \"sequential\"</span>\n</pre>\n"
     },
     "metadata": {},
     "output_type": "display_data"
    },
    {
     "data": {
      "text/plain": "┏━━━━━━━━━━━━━━━━━━━━━━━━━━━━━━━━━┳━━━━━━━━━━━━━━━━━━━━━━━━┳━━━━━━━━━━━━━━━┓\n┃\u001B[1m \u001B[0m\u001B[1mLayer (type)                   \u001B[0m\u001B[1m \u001B[0m┃\u001B[1m \u001B[0m\u001B[1mOutput Shape          \u001B[0m\u001B[1m \u001B[0m┃\u001B[1m \u001B[0m\u001B[1m      Param #\u001B[0m\u001B[1m \u001B[0m┃\n┡━━━━━━━━━━━━━━━━━━━━━━━━━━━━━━━━━╇━━━━━━━━━━━━━━━━━━━━━━━━╇━━━━━━━━━━━━━━━┩\n│ dense (\u001B[38;5;33mDense\u001B[0m)                   │ (\u001B[38;5;45mNone\u001B[0m, \u001B[38;5;34m200\u001B[0m)            │        \u001B[38;5;34m25,800\u001B[0m │\n├─────────────────────────────────┼────────────────────────┼───────────────┤\n│ dropout (\u001B[38;5;33mDropout\u001B[0m)               │ (\u001B[38;5;45mNone\u001B[0m, \u001B[38;5;34m200\u001B[0m)            │             \u001B[38;5;34m0\u001B[0m │\n├─────────────────────────────────┼────────────────────────┼───────────────┤\n│ dense_1 (\u001B[38;5;33mDense\u001B[0m)                 │ (\u001B[38;5;45mNone\u001B[0m, \u001B[38;5;34m10\u001B[0m)             │         \u001B[38;5;34m2,010\u001B[0m │\n└─────────────────────────────────┴────────────────────────┴───────────────┘\n",
      "text/html": "<pre style=\"white-space:pre;overflow-x:auto;line-height:normal;font-family:Menlo,'DejaVu Sans Mono',consolas,'Courier New',monospace\">┏━━━━━━━━━━━━━━━━━━━━━━━━━━━━━━━━━┳━━━━━━━━━━━━━━━━━━━━━━━━┳━━━━━━━━━━━━━━━┓\n┃<span style=\"font-weight: bold\"> Layer (type)                    </span>┃<span style=\"font-weight: bold\"> Output Shape           </span>┃<span style=\"font-weight: bold\">       Param # </span>┃\n┡━━━━━━━━━━━━━━━━━━━━━━━━━━━━━━━━━╇━━━━━━━━━━━━━━━━━━━━━━━━╇━━━━━━━━━━━━━━━┩\n│ dense (<span style=\"color: #0087ff; text-decoration-color: #0087ff\">Dense</span>)                   │ (<span style=\"color: #00d7ff; text-decoration-color: #00d7ff\">None</span>, <span style=\"color: #00af00; text-decoration-color: #00af00\">200</span>)            │        <span style=\"color: #00af00; text-decoration-color: #00af00\">25,800</span> │\n├─────────────────────────────────┼────────────────────────┼───────────────┤\n│ dropout (<span style=\"color: #0087ff; text-decoration-color: #0087ff\">Dropout</span>)               │ (<span style=\"color: #00d7ff; text-decoration-color: #00d7ff\">None</span>, <span style=\"color: #00af00; text-decoration-color: #00af00\">200</span>)            │             <span style=\"color: #00af00; text-decoration-color: #00af00\">0</span> │\n├─────────────────────────────────┼────────────────────────┼───────────────┤\n│ dense_1 (<span style=\"color: #0087ff; text-decoration-color: #0087ff\">Dense</span>)                 │ (<span style=\"color: #00d7ff; text-decoration-color: #00d7ff\">None</span>, <span style=\"color: #00af00; text-decoration-color: #00af00\">10</span>)             │         <span style=\"color: #00af00; text-decoration-color: #00af00\">2,010</span> │\n└─────────────────────────────────┴────────────────────────┴───────────────┘\n</pre>\n"
     },
     "metadata": {},
     "output_type": "display_data"
    },
    {
     "data": {
      "text/plain": "\u001B[1m Total params: \u001B[0m\u001B[38;5;34m27,810\u001B[0m (108.63 KB)\n",
      "text/html": "<pre style=\"white-space:pre;overflow-x:auto;line-height:normal;font-family:Menlo,'DejaVu Sans Mono',consolas,'Courier New',monospace\"><span style=\"font-weight: bold\"> Total params: </span><span style=\"color: #00af00; text-decoration-color: #00af00\">27,810</span> (108.63 KB)\n</pre>\n"
     },
     "metadata": {},
     "output_type": "display_data"
    },
    {
     "data": {
      "text/plain": "\u001B[1m Trainable params: \u001B[0m\u001B[38;5;34m27,810\u001B[0m (108.63 KB)\n",
      "text/html": "<pre style=\"white-space:pre;overflow-x:auto;line-height:normal;font-family:Menlo,'DejaVu Sans Mono',consolas,'Courier New',monospace\"><span style=\"font-weight: bold\"> Trainable params: </span><span style=\"color: #00af00; text-decoration-color: #00af00\">27,810</span> (108.63 KB)\n</pre>\n"
     },
     "metadata": {},
     "output_type": "display_data"
    },
    {
     "data": {
      "text/plain": "\u001B[1m Non-trainable params: \u001B[0m\u001B[38;5;34m0\u001B[0m (0.00 B)\n",
      "text/html": "<pre style=\"white-space:pre;overflow-x:auto;line-height:normal;font-family:Menlo,'DejaVu Sans Mono',consolas,'Courier New',monospace\"><span style=\"font-weight: bold\"> Non-trainable params: </span><span style=\"color: #00af00; text-decoration-color: #00af00\">0</span> (0.00 B)\n</pre>\n"
     },
     "metadata": {},
     "output_type": "display_data"
    }
   ],
   "source": [
    "model = Sequential()\n",
    "model.add(Dense(200, input_shape=(hog_size,), activation='relu'))\n",
    "model.add(Dropout(0.3))\n",
    "model.add(Dense(n_classes, activation='softmax'))\n",
    "\n",
    "model.summary()"
   ]
  },
  {
   "cell_type": "markdown",
   "metadata": {
    "id": "EGeviXzJbahY"
   },
   "source": [
    "Define some constants and train the MLP"
   ]
  },
  {
   "cell_type": "code",
   "execution_count": 8,
   "metadata": {
    "colab": {
     "base_uri": "https://localhost:8080/"
    },
    "id": "laKFY8vcbahZ",
    "outputId": "6b454752-d578-4f6c-a6a7-b5ce43b66aa7",
    "ExecuteTime": {
     "end_time": "2024-05-12T16:22:09.695375Z",
     "start_time": "2024-05-12T16:21:41.688120Z"
    }
   },
   "outputs": [
    {
     "name": "stdout",
     "output_type": "stream",
     "text": [
      "Epoch 1/20\n",
      "\u001B[1m422/422\u001B[0m \u001B[32m━━━━━━━━━━━━━━━━━━━━\u001B[0m\u001B[37m\u001B[0m \u001B[1m2s\u001B[0m 3ms/step - accuracy: 0.7577 - loss: 0.9352 - val_accuracy: 0.9448 - val_loss: 0.1825\n",
      "Epoch 2/20\n",
      "\u001B[1m422/422\u001B[0m \u001B[32m━━━━━━━━━━━━━━━━━━━━\u001B[0m\u001B[37m\u001B[0m \u001B[1m1s\u001B[0m 3ms/step - accuracy: 0.9250 - loss: 0.2360 - val_accuracy: 0.9522 - val_loss: 0.1510\n",
      "Epoch 3/20\n",
      "\u001B[1m422/422\u001B[0m \u001B[32m━━━━━━━━━━━━━━━━━━━━\u001B[0m\u001B[37m\u001B[0m \u001B[1m1s\u001B[0m 3ms/step - accuracy: 0.9355 - loss: 0.2022 - val_accuracy: 0.9577 - val_loss: 0.1376\n",
      "Epoch 4/20\n",
      "\u001B[1m422/422\u001B[0m \u001B[32m━━━━━━━━━━━━━━━━━━━━\u001B[0m\u001B[37m\u001B[0m \u001B[1m1s\u001B[0m 3ms/step - accuracy: 0.9394 - loss: 0.1824 - val_accuracy: 0.9607 - val_loss: 0.1292\n",
      "Epoch 5/20\n",
      "\u001B[1m422/422\u001B[0m \u001B[32m━━━━━━━━━━━━━━━━━━━━\u001B[0m\u001B[37m\u001B[0m \u001B[1m2s\u001B[0m 4ms/step - accuracy: 0.9441 - loss: 0.1712 - val_accuracy: 0.9637 - val_loss: 0.1226\n",
      "Epoch 6/20\n",
      "\u001B[1m422/422\u001B[0m \u001B[32m━━━━━━━━━━━━━━━━━━━━\u001B[0m\u001B[37m\u001B[0m \u001B[1m1s\u001B[0m 3ms/step - accuracy: 0.9498 - loss: 0.1532 - val_accuracy: 0.9633 - val_loss: 0.1172\n",
      "Epoch 7/20\n",
      "\u001B[1m422/422\u001B[0m \u001B[32m━━━━━━━━━━━━━━━━━━━━\u001B[0m\u001B[37m\u001B[0m \u001B[1m1s\u001B[0m 3ms/step - accuracy: 0.9513 - loss: 0.1465 - val_accuracy: 0.9637 - val_loss: 0.1145\n",
      "Epoch 8/20\n",
      "\u001B[1m422/422\u001B[0m \u001B[32m━━━━━━━━━━━━━━━━━━━━\u001B[0m\u001B[37m\u001B[0m \u001B[1m1s\u001B[0m 3ms/step - accuracy: 0.9542 - loss: 0.1396 - val_accuracy: 0.9642 - val_loss: 0.1110\n",
      "Epoch 9/20\n",
      "\u001B[1m422/422\u001B[0m \u001B[32m━━━━━━━━━━━━━━━━━━━━\u001B[0m\u001B[37m\u001B[0m \u001B[1m1s\u001B[0m 3ms/step - accuracy: 0.9571 - loss: 0.1329 - val_accuracy: 0.9623 - val_loss: 0.1120\n",
      "Epoch 10/20\n",
      "\u001B[1m422/422\u001B[0m \u001B[32m━━━━━━━━━━━━━━━━━━━━\u001B[0m\u001B[37m\u001B[0m \u001B[1m1s\u001B[0m 3ms/step - accuracy: 0.9602 - loss: 0.1236 - val_accuracy: 0.9662 - val_loss: 0.1067\n",
      "Epoch 11/20\n",
      "\u001B[1m422/422\u001B[0m \u001B[32m━━━━━━━━━━━━━━━━━━━━\u001B[0m\u001B[37m\u001B[0m \u001B[1m1s\u001B[0m 3ms/step - accuracy: 0.9605 - loss: 0.1180 - val_accuracy: 0.9665 - val_loss: 0.1021\n",
      "Epoch 12/20\n",
      "\u001B[1m422/422\u001B[0m \u001B[32m━━━━━━━━━━━━━━━━━━━━\u001B[0m\u001B[37m\u001B[0m \u001B[1m1s\u001B[0m 3ms/step - accuracy: 0.9620 - loss: 0.1163 - val_accuracy: 0.9685 - val_loss: 0.0981\n",
      "Epoch 13/20\n",
      "\u001B[1m422/422\u001B[0m \u001B[32m━━━━━━━━━━━━━━━━━━━━\u001B[0m\u001B[37m\u001B[0m \u001B[1m1s\u001B[0m 3ms/step - accuracy: 0.9646 - loss: 0.1096 - val_accuracy: 0.9692 - val_loss: 0.0973\n",
      "Epoch 14/20\n",
      "\u001B[1m422/422\u001B[0m \u001B[32m━━━━━━━━━━━━━━━━━━━━\u001B[0m\u001B[37m\u001B[0m \u001B[1m1s\u001B[0m 3ms/step - accuracy: 0.9657 - loss: 0.1061 - val_accuracy: 0.9690 - val_loss: 0.0962\n",
      "Epoch 15/20\n",
      "\u001B[1m422/422\u001B[0m \u001B[32m━━━━━━━━━━━━━━━━━━━━\u001B[0m\u001B[37m\u001B[0m \u001B[1m1s\u001B[0m 3ms/step - accuracy: 0.9669 - loss: 0.1042 - val_accuracy: 0.9695 - val_loss: 0.0951\n",
      "Epoch 16/20\n",
      "\u001B[1m422/422\u001B[0m \u001B[32m━━━━━━━━━━━━━━━━━━━━\u001B[0m\u001B[37m\u001B[0m \u001B[1m1s\u001B[0m 3ms/step - accuracy: 0.9685 - loss: 0.0999 - val_accuracy: 0.9700 - val_loss: 0.0939\n",
      "Epoch 17/20\n",
      "\u001B[1m422/422\u001B[0m \u001B[32m━━━━━━━━━━━━━━━━━━━━\u001B[0m\u001B[37m\u001B[0m \u001B[1m1s\u001B[0m 3ms/step - accuracy: 0.9679 - loss: 0.0963 - val_accuracy: 0.9703 - val_loss: 0.0933\n",
      "Epoch 18/20\n",
      "\u001B[1m422/422\u001B[0m \u001B[32m━━━━━━━━━━━━━━━━━━━━\u001B[0m\u001B[37m\u001B[0m \u001B[1m1s\u001B[0m 3ms/step - accuracy: 0.9699 - loss: 0.0948 - val_accuracy: 0.9720 - val_loss: 0.0911\n",
      "Epoch 19/20\n",
      "\u001B[1m422/422\u001B[0m \u001B[32m━━━━━━━━━━━━━━━━━━━━\u001B[0m\u001B[37m\u001B[0m \u001B[1m1s\u001B[0m 3ms/step - accuracy: 0.9697 - loss: 0.0912 - val_accuracy: 0.9690 - val_loss: 0.0920\n",
      "Epoch 20/20\n",
      "\u001B[1m422/422\u001B[0m \u001B[32m━━━━━━━━━━━━━━━━━━━━\u001B[0m\u001B[37m\u001B[0m \u001B[1m1s\u001B[0m 3ms/step - accuracy: 0.9719 - loss: 0.0883 - val_accuracy: 0.9697 - val_loss: 0.0924\n"
     ]
    }
   ],
   "source": [
    "batch_size = 128\n",
    "n_epoch = 20\n",
    "\n",
    "model.compile(loss='categorical_crossentropy', optimizer=RMSprop(), metrics=['accuracy'])\n",
    "\n",
    "history = model.fit(X_train_hog, Y_train,\n",
    "                    batch_size=batch_size, epochs=n_epoch,\n",
    "                    verbose=1, validation_split=0.1)"
   ]
  },
  {
   "cell_type": "markdown",
   "metadata": {
    "id": "aezTZuCMbahf"
   },
   "source": [
    "Show the performance of the model"
   ]
  },
  {
   "cell_type": "code",
   "execution_count": 9,
   "metadata": {
    "colab": {
     "base_uri": "https://localhost:8080/",
     "height": 467
    },
    "id": "u6E66I52bahg",
    "outputId": "ed988a39-d225-4fe8-9169-c6a99db2a7a9",
    "ExecuteTime": {
     "end_time": "2024-05-12T16:22:10.383428Z",
     "start_time": "2024-05-12T16:22:09.697364Z"
    }
   },
   "outputs": [
    {
     "name": "stdout",
     "output_type": "stream",
     "text": [
      "Test score: 0.09959401935338974\n",
      "Test accuracy: 0.96670001745224\n"
     ]
    },
    {
     "data": {
      "text/plain": "<Figure size 640x480 with 1 Axes>",
      "image/png": "[encoded data removed]"
     },
     "metadata": {},
     "output_type": "display_data"
    }
   ],
   "source": [
    "pl.plot(history.history['loss'], label='Training')\n",
    "pl.plot(history.history['val_loss'], label='Testing')\n",
    "pl.legend()\n",
    "pl.grid()\n",
    "\n",
    "score = model.evaluate(X_test_hog, Y_test, verbose=0)\n",
    "print('Test score:', score[0])\n",
    "print('Test accuracy:', score[1])"
   ]
  },
  {
   "cell_type": "markdown",
   "metadata": {
    "id": "axdxLHYMbahu"
   },
   "source": [
    "Confusion matrix"
   ]
  },
  {
   "cell_type": "code",
   "execution_count": 13,
   "metadata": {
    "colab": {
     "base_uri": "https://localhost:8080/"
    },
    "id": "Mhm1wjNfbahv",
    "outputId": "1c499d9c-6b1d-49f4-e741-b4c3327f17a0",
    "ExecuteTime": {
     "end_time": "2024-05-12T16:27:21.213096Z",
     "start_time": "2024-05-12T16:27:19.339760Z"
    }
   },
   "outputs": [
    {
     "name": "stdout",
     "output_type": "stream",
     "text": [
      "\u001B[1m313/313\u001B[0m \u001B[32m━━━━━━━━━━━━━━━━━━━━\u001B[0m\u001B[37m\u001B[0m \u001B[1m1s\u001B[0m 4ms/step\n",
      "[[ 967    2    1    1    0    1    4    1    1    2]\n",
      " [   0 1118    3    1    2    0    4    2    4    1]\n",
      " [   3    3 1004   10    1    1    1    6    3    0]\n",
      " [   3    1    4  978    1   10    0    4    7    2]\n",
      " [   0    2    1    0  950    0    3    5    3   18]\n",
      " [   1    0    0   17    0  867    1    0    5    1]\n",
      " [   5    1    0    0    7    7  934    0    3    1]\n",
      " [   0    3    9    6    6    0    0  969    4   31]\n",
      " [   4    2    6   16    2   11    5    1  914   13]\n",
      " [   0    4    1   13   10    1    0    8    6  966]]\n",
      "0.9665753970904897\n"
     ]
    }
   ],
   "source": [
    "from sklearn.metrics import confusion_matrix\n",
    "\n",
    "pred = model.predict(X_test_hog)\n",
    "pred = np.argmax(pred, axis=-1)\n",
    "print(confusion_matrix(y_test, pred))\n",
    "\n",
    "# calculate f1 score\n",
    "from sklearn.metrics import f1_score\n",
    "print(f1_score(y_test, pred, average='macro'))"
   ]
  },
  {
   "cell_type": "code",
   "outputs": [],
   "source": [],
   "metadata": {
    "collapsed": false
   }
  }
 ],
 "metadata": {
  "accelerator": "GPU",
  "colab": {
   "provenance": []
  },
  "kernelspec": {
   "display_name": "Python 3 (ipykernel)",
   "language": "python",
   "name": "python3"
  },
  "language_info": {
   "codemirror_mode": {
    "name": "ipython",
    "version": 3
   },
   "file_extension": ".py",
   "mimetype": "text/x-python",
   "name": "python",
   "nbconvert_exporter": "python",
   "pygments_lexer": "ipython3",
   "version": "3.9.16"
  }
 },
 "nbformat": 4,
 "nbformat_minor": 0
}
